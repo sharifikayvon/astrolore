{
 "cells": [
  {
   "cell_type": "code",
   "execution_count": 1,
   "metadata": {},
   "outputs": [],
   "source": [
    "from astrolore.gui import main_gui\n",
    "from astrolore.dataset import astrolore_dataset\n",
    "import matplotlib.pyplot as plt"
   ]
  },
  {
   "cell_type": "code",
   "execution_count": 2,
   "metadata": {},
   "outputs": [
    {
     "name": "stdout",
     "output_type": "stream",
     "text": [
      "['06h23m57.10988s' '14h39m36.50s' '14h29m43.00s' '0h42m42.00s'\n",
      " '07h28m51.4870582200s' '20h08m43.6088716052s' '16h18m19.2902245358s'\n",
      " '23h17m09.9371132484s' '0h42m42.00s' '1h33m54.00s' '1h44m05.13s'\n",
      " '2h17m02.42s' '2h17m18.84s' '2h19m20.79s' '2h58m15.72s' '3h02m16.78s'\n",
      " '3h32m56.42s' '3h47m00.00s' '4h15m17.64s' '4h19m47.53s' '4h34m58.61s'\n",
      " '5h14m32.30s' '5h16m41.30s' '5h29m43.98s' '5h34m30.00s' '5h59m31.77s'\n",
      " '6h23m57.09s' '7h45m19.36s' '8h46m46.65s' '10h08m22.46s' '10h56m28.99s'\n",
      " '11h01m50.39s' '12h56m01.84s' '13h18m55.25s' '13h23m55.42s'\n",
      " '14h44m59.25s' '16h29m24.47s' '16h48m39.87s' '17h57m48.00s'\n",
      " '18h36m56.00s' '18h50m04.79s' '19h32m20.59s' '19h50m46.9s' '20h41m25.91s'\n",
      " '22h29m36.00s' '11h00m44.0149358136s' '05h12m17.9105854648s'\n",
      " '17h15m20.9839376s' '06h45m09s' '17h41m57.0s' '19h32m21.5902098601s'\n",
      " '02h58m15.6752536s' '03h32m55s']\n"
     ]
    },
    {
     "ename": "TypeError",
     "evalue": "loop of ufunc does not support argument 0 of type str which has no callable radians method",
     "output_type": "error",
     "traceback": [
      "\u001b[0;31m---------------------------------------------------------------------------\u001b[0m",
      "\u001b[0;31mAttributeError\u001b[0m                            Traceback (most recent call last)",
      "\u001b[0;31mAttributeError\u001b[0m: 'str' object has no attribute 'radians'",
      "\nThe above exception was the direct cause of the following exception:\n",
      "\u001b[0;31mTypeError\u001b[0m                                 Traceback (most recent call last)",
      "Cell \u001b[0;32mIn[2], line 5\u001b[0m\n\u001b[1;32m      1\u001b[0m dataset \u001b[39m=\u001b[39m astrolore_dataset()\n\u001b[1;32m      3\u001b[0m close_object \u001b[39m=\u001b[39m dataset\u001b[39m.\u001b[39mfind_closest_object(\u001b[39m\"\u001b[39m\u001b[39mAndromeda\u001b[39m\u001b[39m\"\u001b[39m)\n\u001b[0;32m----> 5\u001b[0m fig, axs \u001b[39m=\u001b[39m dataset\u001b[39m.\u001b[39;49mget_catalog_map(name\u001b[39m=\u001b[39;49m\u001b[39m\"\u001b[39;49m\u001b[39mAndromeda\u001b[39;49m\u001b[39m\"\u001b[39;49m)\n",
      "File \u001b[0;32m~/Documents/Research/workshops/astrolore/src/astrolore/dataset.py:138\u001b[0m, in \u001b[0;36mastrolore_dataset.get_catalog_map\u001b[0;34m(self, name)\u001b[0m\n\u001b[1;32m    136\u001b[0m     name \u001b[39m=\u001b[39m \u001b[39m'\u001b[39m\u001b[39mArcturus\u001b[39m\u001b[39m'\u001b[39m\n\u001b[1;32m    137\u001b[0m user_object \u001b[39m=\u001b[39m \u001b[39mself\u001b[39m\u001b[39m.\u001b[39mfind_closest_object(name)\n\u001b[0;32m--> 138\u001b[0m ra_rad, dec_rad, user_ra_rad, user_dec_rad \u001b[39m=\u001b[39m \u001b[39mself\u001b[39;49m\u001b[39m.\u001b[39;49minit_catalog_map(user_object)\n\u001b[1;32m    139\u001b[0m fig, ax \u001b[39m=\u001b[39m plt\u001b[39m.\u001b[39msubplots(subplot_kw\u001b[39m=\u001b[39m{\u001b[39m'\u001b[39m\u001b[39mprojection\u001b[39m\u001b[39m'\u001b[39m: \u001b[39m'\u001b[39m\u001b[39maitoff\u001b[39m\u001b[39m'\u001b[39m}, figsize\u001b[39m=\u001b[39m(\u001b[39m26\u001b[39m,\u001b[39m9\u001b[39m))\n\u001b[1;32m    141\u001b[0m fig\u001b[39m.\u001b[39mpatch\u001b[39m.\u001b[39mset_facecolor(\u001b[39m'\u001b[39m\u001b[39mblack\u001b[39m\u001b[39m'\u001b[39m)           \u001b[39m# Background of the figure\u001b[39;00m\n",
      "File \u001b[0;32m~/Documents/Research/workshops/astrolore/src/astrolore/dataset.py:115\u001b[0m, in \u001b[0;36mastrolore_dataset.init_catalog_map\u001b[0;34m(self, user_object)\u001b[0m\n\u001b[1;32m    113\u001b[0m dec_deg \u001b[39m=\u001b[39m \u001b[39mself\u001b[39m\u001b[39m.\u001b[39mscifi_dataframe\u001b[39m.\u001b[39mdec\n\u001b[1;32m    114\u001b[0m \u001b[39mprint\u001b[39m(ra_deg\u001b[39m.\u001b[39mvalues)\n\u001b[0;32m--> 115\u001b[0m \u001b[39mprint\u001b[39m(np\u001b[39m.\u001b[39;49mradians(ra_deg\u001b[39m.\u001b[39;49mvalues))\n\u001b[1;32m    116\u001b[0m ra_rad \u001b[39m=\u001b[39m np\u001b[39m.\u001b[39mradians(ra_deg)\n\u001b[1;32m    117\u001b[0m ra_rad \u001b[39m=\u001b[39m np\u001b[39m.\u001b[39mremainder(ra_rad \u001b[39m+\u001b[39m \u001b[39m2\u001b[39m\u001b[39m*\u001b[39mnp\u001b[39m.\u001b[39mpi, \u001b[39m2\u001b[39m\u001b[39m*\u001b[39mnp\u001b[39m.\u001b[39mpi)\n",
      "\u001b[0;31mTypeError\u001b[0m: loop of ufunc does not support argument 0 of type str which has no callable radians method"
     ]
    }
   ],
   "source": [
    "dataset = astrolore_dataset()\n",
    "\n",
    "close_object = dataset.find_closest_object(\"Andromeda\")\n",
    "\n",
    "fig, axs = dataset.get_catalog_map(name=\"Andromeda\")\n",
    "# plt.tight_layout()\n",
    "# plt.show()"
   ]
  },
  {
   "cell_type": "code",
   "execution_count": null,
   "metadata": {},
   "outputs": [],
   "source": []
  }
 ],
 "metadata": {
  "kernelspec": {
   "display_name": "code_astro",
   "language": "python",
   "name": "python3"
  },
  "language_info": {
   "codemirror_mode": {
    "name": "ipython",
    "version": 3
   },
   "file_extension": ".py",
   "mimetype": "text/x-python",
   "name": "python",
   "nbconvert_exporter": "python",
   "pygments_lexer": "ipython3",
   "version": "3.10.18"
  },
  "orig_nbformat": 4
 },
 "nbformat": 4,
 "nbformat_minor": 2
}
