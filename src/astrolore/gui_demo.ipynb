{
 "cells": [
  {
   "cell_type": "code",
   "execution_count": null,
   "id": "7194bfa9",
   "metadata": {},
   "outputs": [
    {
     "data": {
      "text/plain": [
       "\"a = AstroLore()\\nclosest_star = a.closest_star_finder('pleione')\\nprint(closest_star)\\n#a.visualize()\""
      ]
     },
     "execution_count": 23,
     "metadata": {},
     "output_type": "execute_result"
    },
    {
     "ename": "",
     "evalue": "",
     "output_type": "error",
     "traceback": [
      "\u001b[1;31mThe Kernel crashed while executing code in the current cell or a previous cell. \n",
      "\u001b[1;31mPlease review the code in the cell(s) to identify a possible cause of the failure. \n",
      "\u001b[1;31mClick <a href='https://aka.ms/vscodeJupyterKernelCrash'>here</a> for more info. \n",
      "\u001b[1;31mView Jupyter <a href='command:jupyter.viewOutput'>log</a> for further details."
     ]
    }
   ],
   "source": []
  },
  {
   "cell_type": "code",
   "execution_count": null,
   "id": "d3524ab1",
   "metadata": {},
   "outputs": [],
   "source": []
  },
  {
   "cell_type": "code",
   "execution_count": null,
   "id": "7c7cfa81",
   "metadata": {},
   "outputs": [],
   "source": []
  },
  {
   "cell_type": "code",
   "execution_count": null,
   "id": "0fab609d",
   "metadata": {},
   "outputs": [],
   "source": []
  },
  {
   "cell_type": "code",
   "execution_count": null,
   "id": "78f1322d",
   "metadata": {},
   "outputs": [],
   "source": []
  },
  {
   "cell_type": "code",
   "execution_count": null,
   "id": "12734272",
   "metadata": {},
   "outputs": [],
   "source": []
  },
  {
   "cell_type": "code",
   "execution_count": null,
   "id": "8ed2faa4",
   "metadata": {},
   "outputs": [],
   "source": []
  },
  {
   "cell_type": "code",
   "execution_count": 37,
   "id": "d3a24f52",
   "metadata": {},
   "outputs": [],
   "source": [
    "import pandas as pd\n",
    "from astropy.coordinates import SkyCoord\n",
    "import astropy.units as u\n",
    "import webbrowser\n",
    "\n",
    "\n",
    "class AstroLore():\n",
    "\n",
    "    def __init__(self, vis=False):\n",
    "        self.scifi_dataframe = pd.read_csv('/data/scifi_dataset.csv')\n",
    "        self.vis = vis\n",
    "        \n",
    " \n",
    "        \n",
    "    @staticmethod\n",
    "    def format_sources(sources):\n",
    "        if not sources:\n",
    "            return \"\"\n",
    "        elif len(sources) == 1:\n",
    "            return sources[0]\n",
    "        elif len(sources) == 2:\n",
    "            return f\"{sources[0]} and {sources[1]}\"\n",
    "        else:\n",
    "            return f\"{', '.join(sources[:-1])}, and {sources[-1]}\"\n",
    "\n",
    "    \n",
    "    def closest_star_finder(self, name = None, coords=None):\n",
    "        \n",
    "        if name is None:\n",
    "            name = 'Andromeda'\n",
    "        if coords is None:\n",
    "            self.coords = SkyCoord.from_name(name)\n",
    "        else:\n",
    "            ra, dec = coords\n",
    "            self.coords = SkyCoord(ra=ra, dec=dec)\n",
    "        \n",
    "        self.name = name.capitalize()\n",
    "\n",
    "        #name = input('''Welcome to AstroLoreBot v1.0!\\nGiven an astrophysical object of your choice, I output the nearest object on the sky referenced in sci-fi.\\nWhenever you're ready, name your object:\\n>>> ''')\n",
    "        self.scifi_dataframe['ang_sep'] = SkyCoord(ra=self.scifi_dataframe.ra.values, dec=self.scifi_dataframe.dec.values).separation(self.coords).value\n",
    "        self.close_star = self.scifi_dataframe.loc[self.scifi_dataframe.ang_sep.idxmin()]\n",
    "        self.close_star = self.close_star.drop(columns=['image_source'])\n",
    "\n",
    "        display(self.close_star)\n",
    "\n",
    "        # Convert string to list of sources\n",
    "        raw = self.close_star.scifi_source.strip(\"()\")\n",
    "        sources = [s.strip() for s in raw.split(\",\")]\n",
    "        formatted_sources = self.format_sources(sources)\n",
    "\n",
    "        # Threshold for \"exact match\"\n",
    "        sep = round(self.close_star.ang_sep, 5)\n",
    "        if sep < 0.01:\n",
    "            output = (\n",
    "                f\"\\nWow, {self.name}! \"\n",
    "                f\"Your chosen object is itself referenced in science fiction!\\n\"\n",
    "                f\"\\nThe {self.close_star['name']} {self.close_star.object_type} appears/is referenced in {formatted_sources}. Here's some lore about {self.close_star['name']}:\\n\"\n",
    "                f\"\\n{self.close_star.lore}\\n\"\n",
    "            )\n",
    "        else:\n",
    "            output = (\n",
    "                f\"\\nWow, {self.name}! \"\n",
    "                f\"The nearest object referenced in sci-fi is {sep} degrees away — \"\n",
    "                f\"The {self.close_star['name']} {self.close_star.object_type}. \"\n",
    "                f\"Here's some lore about {self.close_star['name']}:\\n\"\n",
    "                f\"\\nThe {self.close_star['name']} {self.close_star.object_type} appears/is referenced in {formatted_sources}. {self.close_star.lore}\"\n",
    "            )\n",
    "\n",
    "        print(output)\n",
    "    \n",
    "\n",
    "    def visualize(self):\n",
    "\n",
    "        # Ask for visualization\n",
    "        #if_vis = input('\\nDo you want to observe the source in the real world?\\n>>> ').strip().lower()\n",
    "        #if if_vis in ('yes', 'y'):\n",
    "        if self.vis:\n",
    "            coord_close_star = SkyCoord(ra=self.close_star.ra, dec=self.close_star.dec)\n",
    "            url = f\"https://aladin.u-strasbg.fr/AladinLite/?target={coord_close_star.ra.deg}%20{coord_close_star.dec.deg}&fov=1.5\"\n",
    "            webbrowser.open(url)\n",
    "\n",
    "\n",
    "\n"
   ]
  },
  {
   "cell_type": "code",
   "execution_count": null,
   "id": "98a9ae2e",
   "metadata": {},
   "outputs": [
    {
     "name": "stdout",
     "output_type": "stream",
     "text": [
      "\n",
      "Wow, Pleione! The nearest object referenced in sci-fi is 0.49938 degrees away — The Pleiades Open Cluster. Here's some lore about Pleiades:\n",
      "\n",
      "The Pleiades Open Cluster appears/is referenced in Star Trek - TNG. Crystalline lifeform.\n"
     ]
    }
   ],
   "source": []
  },
  {
   "cell_type": "code",
   "execution_count": null,
   "id": "b6523a17",
   "metadata": {},
   "outputs": [],
   "source": [
    "import AstroLore\n",
    "z\n",
    "\n",
    "closest_star = AstroLore.closest_star_finder('Andromeda')\n"
   ]
  }
 ],
 "metadata": {
  "kernelspec": {
   "display_name": "codeastro",
   "language": "python",
   "name": "python3"
  },
  "language_info": {
   "codemirror_mode": {
    "name": "ipython",
    "version": 3
   },
   "file_extension": ".py",
   "mimetype": "text/x-python",
   "name": "python",
   "nbconvert_exporter": "python",
   "pygments_lexer": "ipython3",
   "version": "3.10.18"
  }
 },
 "nbformat": 4,
 "nbformat_minor": 5
}
