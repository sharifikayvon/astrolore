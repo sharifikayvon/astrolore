{
 "cells": [
  {
   "cell_type": "code",
   "execution_count": 47,
   "id": "fe07a441-1ebf-42d6-b6a9-fa8cd2800031",
   "metadata": {},
   "outputs": [],
   "source": [
    "import numpy\n",
    "import pandas as pd\n",
    "from astroquery.simbad import Simbad\n"
   ]
  },
  {
   "cell_type": "code",
   "execution_count": 49,
   "id": "69727e50-478b-4f3c-8352-095cd5a96374",
   "metadata": {
    "scrolled": true
   },
   "outputs": [
    {
     "name": "stdin",
     "output_type": "stream",
     "text": [
      " andromeda\n"
     ]
    },
    {
     "name": "stdout",
     "output_type": "stream",
     "text": [
      "Object info RA = 10.684708333333333 dec = 41.268750000000004\n",
      "Closest scifi object is   \n",
      "Star =  Andromeda\n",
      "Sci fi source =  (Star Trek (TOS))\n",
      "Type =  Galaxy\n",
      "Lore =  Home of the Kelvans,\n",
      "who try to take over\n",
      "our galaxy\n",
      "---------------\n"
     ]
    }
   ],
   "source": [
    "\n",
    "ID_object = input()  #Input from user\n",
    "\n",
    "\n",
    "\n",
    "def compare_angular(ra,dec):\n",
    "\n",
    "    \"\"\"\n",
    "    Function to query the closest scifi object\n",
    "\n",
    "    input: your object RA and DEC \n",
    "\n",
    "    output: Information of the closest object\n",
    "    \"\"\"\n",
    "    df = pd.read_excel('scifi_dataset.xlsx') #Reading dataset \n",
    "\n",
    "    ra = float(ra)\n",
    "    dec = float(dec)\n",
    "    ra_str = df.ra.iloc\n",
    "    dec_str = df.dec.iloc\n",
    "    coord = SkyCoord(ra=ra_str, dec=dec_str, frame='icrs') #Getting coordinates in degrees\n",
    "\n",
    "\n",
    "    angular_separation = [] #empty for angular separation\n",
    "\n",
    "    for i in range(len(df)): #Checking the closest angular separation\n",
    "\n",
    "        ang = astropy.coordinates.angular_separation(coord[i].ra.deg,coord[i].dec.deg, ra, dec)\n",
    "        angular_separation.append(ang)\n",
    "\n",
    "    #Index of minimum separation\n",
    "    index_minimum = angular_separation.index(min(angular_separation)) \n",
    "\n",
    "    #Querying minimum separation\n",
    "    print('Closest scifi object is   ')\n",
    "\n",
    "    print('Star = ', df.name.iloc[index_minimum])\n",
    "    print('Sci fi source = ', df.scifi_source.iloc[index_minimum])\n",
    "    print('Type = ',df.object_type.iloc[index_minimum])\n",
    "    print('Lore = ', df.lore.iloc[index_minimum])\n",
    "\n",
    "\n",
    "    print('---------------')\n",
    "    \n",
    "\n",
    "\n",
    "def query_obj(obj):\n",
    "\n",
    "    \"\"\"\n",
    "    Input: Object name\n",
    "\n",
    "    \n",
    "    \"\"\"\n",
    "\n",
    "    object_name = str(obj)  #From output\n",
    "\n",
    "    #Querying the information\n",
    "    result_table = Simbad.query_object(object_name)\n",
    "\n",
    "    #Object ra and dec values\n",
    "    RA = result_table['ra'].value[0]\n",
    "    dec = result_table['dec'].value[0]\n",
    "\n",
    "    print('Object info RA =', RA, \"dec =\", dec)\n",
    "\n",
    "\n",
    "    \n",
    "    compare_angular(RA,dec)\n",
    "\n",
    "query_obj(ID_object)"
   ]
  },
  {
   "cell_type": "code",
   "execution_count": null,
   "id": "d62cab7c-3c5e-4c56-aeab-a4082ab62dba",
   "metadata": {},
   "outputs": [],
   "source": []
  }
 ],
 "metadata": {
  "kernelspec": {
   "display_name": "Python 3 (ipykernel)",
   "language": "python",
   "name": "python3"
  },
  "language_info": {
   "codemirror_mode": {
    "name": "ipython",
    "version": 3
   },
   "file_extension": ".py",
   "mimetype": "text/x-python",
   "name": "python",
   "nbconvert_exporter": "python",
   "pygments_lexer": "ipython3",
   "version": "3.10.18"
  }
 },
 "nbformat": 4,
 "nbformat_minor": 5
}
